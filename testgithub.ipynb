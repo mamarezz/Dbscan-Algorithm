{
  "nbformat": 4,
  "nbformat_minor": 0,
  "metadata": {
    "colab": {
      "provenance": [],
      "authorship_tag": "ABX9TyPx447cgUr9y2BpNX3FF/8R",
      "include_colab_link": true
    },
    "kernelspec": {
      "name": "python3",
      "display_name": "Python 3"
    },
    "language_info": {
      "name": "python"
    }
  },
  "cells": [
    {
      "cell_type": "markdown",
      "metadata": {
        "id": "view-in-github",
        "colab_type": "text"
      },
      "source": [
        "<a href=\"https://colab.research.google.com/github/mamarezz/Dbscan-Algorithm/blob/main/testgithub.ipynb\" target=\"_parent\"><img src=\"https://colab.research.google.com/assets/colab-badge.svg\" alt=\"Open In Colab\"/></a>"
      ]
    },
    {
      "cell_type": "code",
      "execution_count": 1,
      "metadata": {
        "id": "KEzQLRQysBQT"
      },
      "outputs": [],
      "source": [
        "#this is a test project on github\n",
        "#that we want to push in github"
      ]
    },
    {
      "cell_type": "code",
      "source": [],
      "metadata": {
        "id": "8p7dhz6zsQY4"
      },
      "execution_count": null,
      "outputs": []
    }
  ]
}